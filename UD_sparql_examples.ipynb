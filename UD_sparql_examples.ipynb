{
 "cells": [
  {
   "cell_type": "code",
   "execution_count": 2,
   "metadata": {
    "collapsed": true
   },
   "outputs": [],
   "source": [
    "import rdflib"
   ]
  },
  {
   "cell_type": "code",
   "execution_count": 3,
   "metadata": {
    "collapsed": true
   },
   "outputs": [],
   "source": [
    "from rdflib import URIRef"
   ]
  },
  {
   "cell_type": "code",
   "execution_count": 5,
   "metadata": {
    "collapsed": false
   },
   "outputs": [
    {
     "name": "stdout",
     "output_type": "stream",
     "text": [
      "CPU times: user 2min 18s, sys: 2.03 s, total: 2min 20s\n",
      "Wall time: 2min 21s\n"
     ]
    }
   ],
   "source": [
    "%%time\n",
    "g = rdflib.ConjunctiveGraph()\n",
    "g.parse(\"../exercise2_version2/udenglish.rdf\",publicID=URIRef(\"UD_EN\"))\n",
    "g.parse(\"../exercise2_version2/udhindi.rdf\",publicID=URIRef(\"UD_HD\"))"
   ]
  },
  {
   "cell_type": "code",
   "execution_count": 6,
   "metadata": {
    "collapsed": false
   },
   "outputs": [
    {
     "name": "stdout",
     "output_type": "stream",
     "text": [
      "[<Graph identifier=UD_EN (<class 'rdflib.graph.Graph'>)>, <Graph identifier=UD_HD (<class 'rdflib.graph.Graph'>)>]\n"
     ]
    }
   ],
   "source": [
    "print list(g.contexts())"
   ]
  },
  {
   "cell_type": "code",
   "execution_count": 9,
   "metadata": {
    "collapsed": false
   },
   "outputs": [
    {
     "name": "stdout",
     "output_type": "stream",
     "text": [
      "https://github.com/UniversalDependencies/UD_English#s209_10 <-> http://ufal.mff.cuni.cz/conll2009-st/task-description.html#LEMMA <-> out\n",
      "\n",
      "https://github.com/UniversalDependencies/UD_English#s590_13 <-> http://ufal.mff.cuni.cz/conll2009-st/task-description.html#LEMMA <-> month\n",
      "\n",
      "https://github.com/UniversalDependencies/UD_Hindi#s1007_11 <-> http://ufal.mff.cuni.cz/conll2009-st/task-description.html#EDGE <-> root\n",
      "\n",
      "https://github.com/UniversalDependencies/UD_Hindi#s486_27 <-> http://ufal.mff.cuni.cz/conll2009-st/task-description.html#WORD <-> नीति\n",
      "\n",
      "https://github.com/UniversalDependencies/UD_Hindi#s1615_10 <-> http://ufal.mff.cuni.cz/conll2009-st/task-description.html#HEAD <-> https://github.com/UniversalDependencies/UD_Hindi#s1615_11\n",
      "\n",
      "CPU times: user 123 ms, sys: 10.3 ms, total: 133 ms\n",
      "Wall time: 133 ms\n"
     ]
    }
   ],
   "source": [
    "%%time\n",
    "all_req = g.query(\"\"\"\n",
    "SELECT ?s ?p ?o WHERE { ?s ?p ?o } LIMIT 5\n",
    "\"\"\")\n",
    "\n",
    "for triple in all_req:\n",
    "    print \" <-> \".join(triple)\n",
    "    print"
   ]
  },
  {
   "cell_type": "code",
   "execution_count": 19,
   "metadata": {
    "collapsed": false
   },
   "outputs": [
    {
     "name": "stdout",
     "output_type": "stream",
     "text": [
      "(rdflib.term.URIRef(u'https://github.com/UniversalDependencies/UD_Hindi#s1224_3'),)\n",
      "(rdflib.term.URIRef(u'https://github.com/UniversalDependencies/UD_English#s1490_7'),)\n",
      "(rdflib.term.URIRef(u'https://github.com/UniversalDependencies/UD_Hindi#s991_11'),)\n",
      "CPU times: user 30.3 ms, sys: 2.51 ms, total: 32.8 ms\n",
      "Wall time: 32.9 ms\n"
     ]
    }
   ],
   "source": [
    "%%time\n",
    "words_req = g.query(\"\"\"\n",
    "PREFIX rdf:<http://www.w3.org/1999/02/22-rdf-syntax-ns#>\n",
    "PREFIX nif:<http://persistence.uni-leipzig.org/nlp2rdf/ontologies/nif-core#>\n",
    "SELECT ?s WHERE \n",
    "{?s <http://www.w3.org/1999/02/22-rdf-syntax-ns#type> nif:Word}\n",
    "LIMIT 3\"\"\")\n",
    "\n",
    "for word in words_req:\n",
    "    print word"
   ]
  },
  {
   "cell_type": "code",
   "execution_count": 7,
   "metadata": {
    "collapsed": false
   },
   "outputs": [
    {
     "name": "stdout",
     "output_type": "stream",
     "text": [
      "5624\n",
      "CPU times: user 3.37 s, sys: 97 ms, total: 3.46 s\n",
      "Wall time: 3.47 s\n"
     ]
    }
   ],
   "source": [
    "%%time\n",
    "en_distinct_words_req = g.query(\"\"\"\n",
    "PREFIX conll: <http://ufal.mff.cuni.cz/conll2009-st/task-description.html#>\n",
    "\n",
    "SELECT DISTINCT ?w  WHERE  {GRAPH <UD_EN> { ?s conll:WORD ?w}}\n",
    "\"\"\")\n",
    "\n",
    "print len(en_distinct_words_req)"
   ]
  },
  {
   "cell_type": "code",
   "execution_count": 8,
   "metadata": {
    "collapsed": false
   },
   "outputs": [
    {
     "name": "stdout",
     "output_type": "stream",
     "text": [
      "10\n"
     ]
    }
   ],
   "source": [
    "req = g.query(\"\"\"\n",
    "PREFIX conll: <http://ufal.mff.cuni.cz/conll2009-st/task-description.html#>\n",
    "SELECT ?word\n",
    "WHERE { GRAPH <UD_HD> {\n",
    "?s conll:UPOS \"VERB\".\n",
    "?s conll:WORD ?word\n",
    "}\n",
    "}\n",
    "LIMIT 10\n",
    "\"\"\")\n",
    "\n",
    "print len(req)"
   ]
  },
  {
   "cell_type": "code",
   "execution_count": 9,
   "metadata": {
    "collapsed": false
   },
   "outputs": [
    {
     "name": "stdout",
     "output_type": "stream",
     "text": [
      "बताया\n",
      "दे\n",
      "लगाई\n",
      "लेकर\n",
      "बढ़ा\n",
      "की\n",
      "पड़ा\n",
      "रहेंगे\n",
      "भरा\n",
      "निकालकर\n"
     ]
    }
   ],
   "source": [
    "for w in [unicode(d[0]) for d in req]:\n",
    "    print w"
   ]
  }
 ],
 "metadata": {
  "kernelspec": {
   "display_name": "Python 2",
   "language": "python",
   "name": "python2"
  },
  "language_info": {
   "codemirror_mode": {
    "name": "ipython",
    "version": 2
   },
   "file_extension": ".py",
   "mimetype": "text/x-python",
   "name": "python",
   "nbconvert_exporter": "python",
   "pygments_lexer": "ipython2",
   "version": "2.7.12"
  }
 },
 "nbformat": 4,
 "nbformat_minor": 2
}
